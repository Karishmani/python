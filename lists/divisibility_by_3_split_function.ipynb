{
 "cells": [
  {
   "cell_type": "markdown",
   "id": "2d3a9596-08ce-4e4b-b425-df9b79acc417",
   "metadata": {},
   "source": [
    "### convert string to list using split function_and print the numbers divisble by 3"
   ]
  },
  {
   "cell_type": "code",
   "execution_count": 1,
   "id": "1ee91307-934b-4f6b-a30d-682b5daafc11",
   "metadata": {},
   "outputs": [
    {
     "name": "stdin",
     "output_type": "stream",
     "text": [
      " 3 10 12 5 6\n"
     ]
    },
    {
     "name": "stdout",
     "output_type": "stream",
     "text": [
      "[3, 12, 6]\n"
     ]
    }
   ],
   "source": [
    "Numbers = input()\n",
    "\n",
    "num_list = Numbers.split()\n",
    "L=[]\n",
    "for i in num_list:\n",
    "    i=int(i)\n",
    "    if(i%3==0):\n",
    "        L +=[i]\n",
    "print(L)"
   ]
  },
  {
   "cell_type": "code",
   "execution_count": null,
   "id": "e86e58ca-27fd-477c-851f-ffcf44e887ad",
   "metadata": {},
   "outputs": [],
   "source": []
  }
 ],
 "metadata": {
  "kernelspec": {
   "display_name": "Python 3 (ipykernel)",
   "language": "python",
   "name": "python3"
  },
  "language_info": {
   "codemirror_mode": {
    "name": "ipython",
    "version": 3
   },
   "file_extension": ".py",
   "mimetype": "text/x-python",
   "name": "python",
   "nbconvert_exporter": "python",
   "pygments_lexer": "ipython3",
   "version": "3.12.4"
  }
 },
 "nbformat": 4,
 "nbformat_minor": 5
}
