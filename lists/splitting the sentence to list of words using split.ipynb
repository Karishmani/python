{
 "cells": [
  {
   "cell_type": "markdown",
   "id": "6afad4e6-a5cb-4af8-b739-bdec9e72b078",
   "metadata": {},
   "source": [
    "###splitting the sentence"
   ]
  },
  {
   "cell_type": "code",
   "execution_count": null,
   "id": "e86e58ca-27fd-477c-851f-ffcf44e887ad",
   "metadata": {},
   "outputs": [],
   "source": [
    "S = input()\n",
    "\n",
    "L = S.split()\n",
    "print(L)"
   ]
  },
  {
   "cell_type": "code",
   "execution_count": null,
   "id": "b83e3b7c-5683-4946-a268-4fbbbd7b8c43",
   "metadata": {},
   "outputs": [],
   "source": []
  }
 ],
 "metadata": {
  "kernelspec": {
   "display_name": "Python 3 (ipykernel)",
   "language": "python",
   "name": "python3"
  },
  "language_info": {
   "codemirror_mode": {
    "name": "ipython",
    "version": 3
   },
   "file_extension": ".py",
   "mimetype": "text/x-python",
   "name": "python",
   "nbconvert_exporter": "python",
   "pygments_lexer": "ipython3",
   "version": "3.12.4"
  }
 },
 "nbformat": 4,
 "nbformat_minor": 5
}
