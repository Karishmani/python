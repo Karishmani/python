{
 "cells": [
  {
   "cell_type": "markdown",
   "id": "6afad4e6-a5cb-4af8-b739-bdec9e72b078",
   "metadata": {},
   "source": [
    "###space separared numbers to list of numbers"
   ]
  },
  {
   "cell_type": "code",
   "execution_count": 4,
   "id": "b83e3b7c-5683-4946-a268-4fbbbd7b8c43",
   "metadata": {},
   "outputs": [
    {
     "name": "stdin",
     "output_type": "stream",
     "text": [
      " 10 20 30 40 50\n"
     ]
    },
    {
     "name": "stdout",
     "output_type": "stream",
     "text": [
      "[10, 20, 30, 40, 50]\n"
     ]
    }
   ],
   "source": [
    "N = input()\n",
    "L = N.split()\n",
    "LN=[]\n",
    "for i in L:\n",
    "    i=int(i)\n",
    "    LN+=[i]\n",
    "print(LN)"
   ]
  },
  {
   "cell_type": "code",
   "execution_count": null,
   "id": "ebc36b16-3d6b-4ea4-a5fc-2c310862cbc6",
   "metadata": {},
   "outputs": [],
   "source": []
  }
 ],
 "metadata": {
  "kernelspec": {
   "display_name": "Python 3 (ipykernel)",
   "language": "python",
   "name": "python3"
  },
  "language_info": {
   "codemirror_mode": {
    "name": "ipython",
    "version": 3
   },
   "file_extension": ".py",
   "mimetype": "text/x-python",
   "name": "python",
   "nbconvert_exporter": "python",
   "pygments_lexer": "ipython3",
   "version": "3.12.4"
  }
 },
 "nbformat": 4,
 "nbformat_minor": 5
}
